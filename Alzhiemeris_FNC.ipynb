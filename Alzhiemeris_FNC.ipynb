{
 "cells": [
  {
   "cell_type": "code",
   "execution_count": 1,
   "metadata": {},
   "outputs": [],
   "source": [
    "# %pip install nilearn\n",
    "# %pip install openpyxl\n",
    "# %pip install Path\n",
    "# %pip install seaborn\n",
    "# %pip install nltools\n",
    "# %pip install networkx"
   ]
  },
  {
   "cell_type": "code",
   "execution_count": 1,
   "metadata": {},
   "outputs": [],
   "source": [
    "import pandas as pd\n",
    "import numpy as np\n",
    "import seaborn as sns\n",
    "from matplotlib import pyplot as plt\n",
    "import scipy.io\n",
    "import networkx as nx"
   ]
  },
  {
   "cell_type": "code",
   "execution_count": 2,
   "metadata": {},
   "outputs": [],
   "source": [
    "icn = pd.read_csv('ADNI_demos.txt')\n",
    "#icn.info()\n",
    "\n",
    "for i in range(2404):\n",
    "  icn.at[i,\"fc_dir\"] = icn.iloc[i][\"fc_dir\"].replace(\"FC\",\"GIGICA\")    # Replacing FC with GIGICA\n",
    "\n",
    "ADs = list()\n",
    "CNs = list()\n",
    "\n",
    "for i in range(2404):\n",
    "    if icn[\"ResearchGroup\"][i] == \"AD\":\n",
    "        ADs.append(icn[\"fc_dir\"][i])\n",
    "    elif icn[\"ResearchGroup\"][i] == \"CN\":\n",
    "        CNs.append(icn[\"fc_dir\"][i])"
   ]
  },
  {
   "cell_type": "code",
   "execution_count": 3,
   "metadata": {},
   "outputs": [],
   "source": [
    "component_matFile = \"adni_aa__postprocess_results.mat\"\n",
    "component_key = \"fnc_corrs_all\""
   ]
  },
  {
   "cell_type": "code",
   "execution_count": 4,
   "metadata": {},
   "outputs": [],
   "source": [
    "componentIndexes = pd.read_csv('NM_icns_info.csv')\n",
    "#componentIndexes.info()\n",
    "domainList = componentIndexes[\"icn_domain\"].tolist()\n",
    "indexList = componentIndexes[\"icn_index\"].tolist()"
   ]
  },
  {
   "cell_type": "code",
   "execution_count": 5,
   "metadata": {},
   "outputs": [],
   "source": [
    "def createDataObjects(filePaths):\n",
    "    ans = dict()\n",
    "    for i in range(len(filePaths)):\n",
    "        imageName = \"image\"+str(i+1)\n",
    "        ans[imageName]=dict()\n",
    "        ans[imageName][\"fnc_matrix\"]=np.zeros((53,53), dtype=np.float64).reshape(53,53)\n",
    "        ans[imageName][\"graphMetrics\"] = dict()\n",
    "        ans[imageName][\"graphMetrics\"][\"betweenessCentrality\"] = 0\n",
    "        ans[imageName][\"graphMetrics\"][\"clusterCoefficient\"] = 0\n",
    "    return ans\n",
    "\n",
    "AD_FNC = createDataObjects(ADs)\n",
    "CN_FNC = createDataObjects(CNs)"
   ]
  },
  {
   "cell_type": "code",
   "execution_count": 6,
   "metadata": {},
   "outputs": [],
   "source": [
    "def loadMatFile(filePath,key):\n",
    "    componentDict = scipy.io.loadmat(filePath+component_matFile)\n",
    "    return componentDict[key]\n",
    "\n",
    "def prepareFNCGraph(components):\n",
    "    \n",
    "    selected_component = np.zeros((53,53), dtype=np.float64).reshape(53,53)\n",
    "    for i in range(53):\n",
    "        for j in range(i+1, 53):\n",
    "            if components[indexList[i]-1][indexList[j]-1] >=0 : \n",
    "                selected_component[i][j]=components[indexList[i]-1][indexList[j]-1]\n",
    "    selected_component += selected_component.T\n",
    "    return selected_component\n",
    "\n",
    "def loadFNCGraphForEachImage(subjectFNC, filePaths):\n",
    "    for i in range(len(filePaths)):\n",
    "        imageName = \"image\"+str(i+1)\n",
    "        components = loadMatFile(filePaths[i],component_key)\n",
    "        subjectFNC[imageName][\"fnc_matrix\"] = prepareFNCGraph(components)\n",
    "        if i==0:\n",
    "            break\n",
    "        # prepareGraphMetrics(subjectFNC[imageName])\n",
    "\n",
    "def prepareHeatmap(component):\n",
    "        corrs = pd.DataFrame(component)\n",
    "        fig, ax = plt.subplots(figsize=(10,10))\n",
    "        sns.heatmap(\n",
    "                corrs.corr(), cmap='coolwarm', square=True, ax=ax, linewidth='0.5', center=0,\n",
    "                xticklabels=domainList, yticklabels=domainList,  annot=False)\n",
    "\n",
    "\n",
    "def prepareGraphMetrics(inputFNCMatrix):\n",
    "    current_graph = nx.from_numpy_array(inputFNCMatrix[\"fnc_matrix\"])\n",
    "    # inputFNCMatrix[\"graphMetrics\"][\"clusterCoefficient\"]   =  nx.cluster.average_clustering(current_graph)\n",
    "    betweenees = nx.algorithms.approximate_current_flow_betweenness_centrality(current_graph)\n",
    "    val = []\n",
    "    for i in range(53):\n",
    "        val.append(betweenees[i])\n",
    "    inputFNCMatrix[\"graphMetrics\"][\"betweenessCentrality\"] =  np.average(val)"
   ]
  },
  {
   "cell_type": "code",
   "execution_count": 7,
   "metadata": {},
   "outputs": [],
   "source": [
    "loadFNCGraphForEachImage(AD_FNC,ADs)\n",
    "# loadFNCGraphForEachImage(CN_FNC,CNs)"
   ]
  },
  {
   "cell_type": "code",
   "execution_count": 8,
   "metadata": {},
   "outputs": [
    {
     "data": {
      "text/plain": [
       "0.747822931785196"
      ]
     },
     "execution_count": 8,
     "metadata": {},
     "output_type": "execute_result"
    }
   ],
   "source": [
    "# prepareHeatmap(AD_FNC[\"image1\"][\"fnc_matrix\"])\n",
    "# AD_FNC[\"image1\"][\"fnc_matrix\"]\n",
    "\n",
    "input_graph = nx.from_numpy_array(AD_FNC[\"image1\"][\"fnc_matrix\"])\n",
    "nx.global_efficiency(input_graph)"
   ]
  }
 ],
 "metadata": {
  "interpreter": {
   "hash": "5485363eba5aa5c9013156c7a22b9e3157cb7f27d52ed786a33cee1c5a309d2b"
  },
  "kernelspec": {
   "display_name": "Python 3.6.8 ('env': venv)",
   "language": "python",
   "name": "python3"
  },
  "language_info": {
   "codemirror_mode": {
    "name": "ipython",
    "version": 3
   },
   "file_extension": ".py",
   "mimetype": "text/x-python",
   "name": "python",
   "nbconvert_exporter": "python",
   "pygments_lexer": "ipython3",
   "version": "3.6.8"
  },
  "orig_nbformat": 4
 },
 "nbformat": 4,
 "nbformat_minor": 2
}
