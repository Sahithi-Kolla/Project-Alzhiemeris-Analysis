{
 "cells": [
  {
   "cell_type": "code",
   "execution_count": 1,
   "metadata": {},
   "outputs": [],
   "source": [
    "# %pip install nilearn\n",
    "# %pip install openpyxl\n",
    "# %pip install Path\n",
    "# %pip install seaborn\n",
    "# %pip install nltools\n",
    "# %pip install networkx"
   ]
  },
  {
   "cell_type": "code",
   "execution_count": 24,
   "metadata": {},
   "outputs": [],
   "source": [
    "import pandas as pd\n",
    "import numpy as np\n",
    "import seaborn as sns\n",
    "from matplotlib import pyplot as plt\n",
    "import scipy.io\n",
    "import networkx as nx"
   ]
  },
  {
   "cell_type": "code",
   "execution_count": 2,
   "metadata": {},
   "outputs": [],
   "source": [
    "icn = pd.read_csv('ADNI_demos.txt')\n",
    "#icn.info()\n",
    "\n",
    "for i in range(2404):\n",
    "  icn.at[i,\"fc_dir\"] = icn.iloc[i][\"fc_dir\"].replace(\"FC\",\"GIGICA\")    # Replacing FC with GIGICA\n",
    "\n",
    "ADs = list()\n",
    "CNs = list()\n",
    "\n",
    "for i in range(2404):\n",
    "    if icn[\"ResearchGroup\"][i] == \"AD\":\n",
    "        ADs.append(icn[\"fc_dir\"][i])\n",
    "    elif icn[\"ResearchGroup\"][i] == \"CN\":\n",
    "        CNs.append(icn[\"fc_dir\"][i])"
   ]
  },
  {
   "cell_type": "code",
   "execution_count": 25,
   "metadata": {},
   "outputs": [],
   "source": [
    "component_matFile = \"adni_aa__postprocess_results.mat\"\n",
    "component_key = \"fnc_corrs_all\""
   ]
  },
  {
   "cell_type": "code",
   "execution_count": 26,
   "metadata": {},
   "outputs": [],
   "source": [
    "componentIndexes = pd.read_csv('NM_icns_info.csv')\n",
    "#componentIndexes.info()\n",
    "domainList = componentIndexes[\"icn_domain\"].tolist()\n",
    "indexList = componentIndexes[\"icn_index\"].tolist()"
   ]
  },
  {
   "cell_type": "code",
   "execution_count": 27,
   "metadata": {},
   "outputs": [],
   "source": [
    "def createDataObjects(filePaths):\n",
    "    ans = dict()\n",
    "    for i in range(len(filePaths)):\n",
    "        imageName = \"image\"+str(i+1)\n",
    "        ans[imageName]=dict()\n",
    "        ans[imageName][\"fnc_matrix\"]=np.zeros((53,53), dtype=np.float64).reshape(53,53)\n",
    "        ans[imageName][\"graphMetrics\"] = dict()\n",
    "        ans[imageName][\"graphMetrics\"][\"betweenessCentrality\"] = 0\n",
    "        ans[imageName][\"graphMetrics\"][\"clusterCoefficient\"] = 0\n",
    "    return ans\n",
    "\n",
    "AD_FNC = createDataObjects(ADs)\n",
    "CN_FNC = createDataObjects(CNs)"
   ]
  },
  {
   "cell_type": "code",
   "execution_count": 28,
   "metadata": {},
   "outputs": [],
   "source": [
    "def loadMatFile(filePath,key):\n",
    "    componentDict = scipy.io.loadmat(filePath+component_matFile)\n",
    "    return componentDict[key]\n",
    "\n",
    "def prepareFNCGraph(components):\n",
    "    \n",
    "    selected_component = np.zeros((53,53), dtype=np.float64).reshape(53,53)\n",
    "    for i in range(53):\n",
    "        for j in range(i+1, 53):\n",
    "            # if components[indexList[i]-1][indexList[j]-1] >=0 : \n",
    "            selected_component[i][j]=components[indexList[i]-1][indexList[j]-1]\n",
    "    selected_component += selected_component.T\n",
    "    return selected_component\n",
    "\n",
    "def loadFNCGraphForEachImage(subjectFNC, filePaths):\n",
    "    for i in range(len(filePaths)):\n",
    "        imageName = \"image\"+str(i+1)\n",
    "        components = loadMatFile(filePaths[i],component_key)\n",
    "        subjectFNC[imageName][\"fnc_matrix\"] = prepareFNCGraph(components)\n",
    "        if i==0:\n",
    "            break\n",
    "        # prepareGraphMetrics(subjectFNC[imageName])\n",
    "\n",
    "def prepareHeatmap(component):\n",
    "    corrs = pd.DataFrame(component)\n",
    "    fig, ax = plt.subplots(figsize=(10,10))\n",
    "    sns.heatmap(\n",
    "            corrs.corr(), cmap='coolwarm', square=True, ax=ax, linewidth='0.5', center=0,\n",
    "            xticklabels=domainList, yticklabels=domainList,  annot=False)\n",
    "\n",
    "\n",
    "def prepareGraphMetrics(inputFNCMatrix):\n",
    "    current_graph = nx.from_numpy_array(inputFNCMatrix[\"fnc_matrix\"])\n",
    "    # inputFNCMatrix[\"graphMetrics\"][\"clusterCoefficient\"]   =  nx.cluster.average_clustering(current_graph)\n",
    "    betweenees = nx.algorithms.approximate_current_flow_betweenness_centrality(current_graph)\n",
    "    val = []\n",
    "    for i in range(53):\n",
    "        val.append(betweenees[i])\n",
    "    inputFNCMatrix[\"graphMetrics\"][\"betweenessCentrality\"] =  np.average(val)"
   ]
  },
  {
   "cell_type": "code",
   "execution_count": 50,
   "metadata": {},
   "outputs": [],
   "source": [
    "loadFNCGraphForEachImage(AD_FNC,ADs)\n",
    "# loadFNCGraphForEachImage(CN_FNC,CNs)"
   ]
  },
  {
   "cell_type": "code",
   "execution_count": 103,
   "metadata": {},
   "outputs": [
    {
     "name": "stdout",
     "output_type": "stream",
     "text": [
      "43.44941549341944\n"
     ]
    }
   ],
   "source": [
    "# prepareHeatmap(AD_FNC[\"image1\"][\"fnc_matrix\"])\n",
    "# AD_FNC[\"image1\"][\"fnc_matrix\"]\n",
    "\n",
    "corrs = pd.DataFrame(AD_FNC[\"image1\"][\"fnc_matrix\"])\n",
    "correlation_matrix = corrs.corr()\n",
    "\n",
    "correlation_numpy_array = correlation_matrix.to_numpy(dtype=np.float64)\n",
    "row,column = correlation_numpy_array.shape\n",
    "\n",
    "for i in range(row):\n",
    "        for j in range(column):\n",
    "                if i!=j and correlation_numpy_array[i][j]<0:\n",
    "                        correlation_numpy_array[i][j]=0\n",
    "\n",
    "input_matrix = nx.from_numpy_array(correlation_numpy_array)\n",
    "d = nx.modularity_matrix(input_matrix, weight='weight')\n",
    "# print(row,column)\n",
    "# print(d[0].tolist()[1][3])\n",
    "a=list()\n",
    "for i in range(row):\n",
    "        s=0\n",
    "        k=d[i].tolist()[0]\n",
    "        for j in range(0,column):\n",
    "                s+=k[j]\n",
    "        # print(s)\n",
    "        a.append(s*s)\n",
    "\n",
    "e=list()\n",
    "for i in range(d.shape[0]):\n",
    "        xl=d[i].tolist()[0][i]\n",
    "        e.append(xl)\n",
    "# print(np.sum(e),np.max(e))\n",
    "# print(np.sum(a), np.min(a))\n",
    "\n",
    "ans=0\n",
    "for i in range(row):\n",
    "        ans+=(e[i]-a[i])\n",
    "print(ans)\n",
    "# modularity = e-a\n",
    "# print(modularity)\n",
    "# input_matrix = np.matrix(corrs.corr(), dtype=np.float64)\n",
    "\n",
    "# print(corrs)\n",
    "# # input_graph = nx.from_numpy_matrix(input_matrix)\n",
    "# # prepareHeatmap(AD_FNC[\"image1\"][\"fnc_matrix\"])\n",
    "# fig, ax = plt.subplots(figsize=(10,10))\n",
    "# sns.heatmap(\n",
    "\n",
    "        \n",
    "#         correlation_numpy_array, cmap='coolwarm', square=True, ax=ax, linewidth='0.5', center=0,\n",
    "#         xticklabels=domainList, yticklabels=domainList,  annot=False)\n",
    "\n",
    "# # sns.heatmap(\n",
    "# #         corrs.corr(), cmap='coolwarm', square=True, ax=ax, linewidth='0.5', center=0,\n",
    "# #         xticklabels=domainList, yticklabels=domainList,  annot=False)\n",
    "# print(nx.global_efficiency(nx.from_numpy_matrix(AD_FNC[\"image1\"][\"fnc_matrix\"])))"
   ]
  }
 ],
 "metadata": {
  "interpreter": {
   "hash": "5485363eba5aa5c9013156c7a22b9e3157cb7f27d52ed786a33cee1c5a309d2b"
  },
  "kernelspec": {
   "display_name": "Python 3.6.8 ('env': venv)",
   "language": "python",
   "name": "python3"
  },
  "language_info": {
   "codemirror_mode": {
    "name": "ipython",
    "version": 3
   },
   "file_extension": ".py",
   "mimetype": "text/x-python",
   "name": "python",
   "nbconvert_exporter": "python",
   "pygments_lexer": "ipython3",
   "version": "3.6.8"
  },
  "orig_nbformat": 4
 },
 "nbformat": 4,
 "nbformat_minor": 2
}
