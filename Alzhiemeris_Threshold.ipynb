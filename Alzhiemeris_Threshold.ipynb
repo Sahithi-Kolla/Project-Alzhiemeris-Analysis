{
 "cells": [
  {
   "cell_type": "code",
   "execution_count": null,
   "metadata": {},
   "outputs": [],
   "source": [
    "# # Required Packages for the Project RUN ONLY ONCE\n",
    "# %pip install matplotlib\n",
    "# %pip install nilearn\n",
    "# %pip install openpyxl\n",
    "# %pip install Path\n",
    "# %pip install seaborn\n",
    "# %pip install nltools\n",
    "# %pip install scipy\n",
    "# %pip install scikit-image\n",
    "# %pip install nibabel"
   ]
  },
  {
   "cell_type": "code",
   "execution_count": 6,
   "metadata": {},
   "outputs": [],
   "source": [
    "import pandas as pd\n",
    "import copy\n",
    "from nilearn import image, masking\n",
    "from nilearn.image import load_img\n",
    "import numpy as np\n",
    "from skimage import filters\n",
    "import json\n",
    "from nilearn.plotting import plot_stat_map, plot_anat, plot_img, plot_prob_atlas\n",
    "import nibabel as nib"
   ]
  },
  {
   "cell_type": "code",
   "execution_count": 2,
   "metadata": {},
   "outputs": [],
   "source": [
    "icn = pd.read_csv('ADNI_demos.txt')\n",
    "#icn.info()\n",
    "\n",
    "for i in range(2404):\n",
    "  icn.at[i,\"fc_dir\"] = icn.iloc[i][\"fc_dir\"].replace(\"FC\",\"GIGICA\")    # Replacing FC with GIGICA"
   ]
  },
  {
   "cell_type": "code",
   "execution_count": 3,
   "metadata": {},
   "outputs": [],
   "source": [
    "componentFileName = \"adni_aa__sub01_component_ica_s1_.nii\"\n",
    "timeCourseFileName = \"adni_aa__sub01_timecourses_ica_s1_.nii\""
   ]
  },
  {
   "cell_type": "code",
   "execution_count": 4,
   "metadata": {},
   "outputs": [],
   "source": [
    "ADs = list()\n",
    "CNs = list()\n",
    "\n",
    "for i in range(2404):\n",
    "    if icn[\"ResearchGroup\"][i] == \"AD\":\n",
    "        ADs.append(icn[\"fc_dir\"][i])\n",
    "    elif icn[\"ResearchGroup\"][i] == \"CN\":\n",
    "        CNs.append(icn[\"fc_dir\"][i])\n",
    "\n",
    "ADsSize = len(ADs)\n",
    "CNsSize = len(CNs)"
   ]
  },
  {
   "cell_type": "code",
   "execution_count": 5,
   "metadata": {},
   "outputs": [],
   "source": [
    "componentIndexes = pd.read_csv('NM_icns_info.csv')\n",
    "#componentIndexes.info()\n",
    "\n",
    "domainList = componentIndexes[\"icn_domain\"].tolist()\n",
    "indexList = componentIndexes[\"icn_index\"].tolist()\n",
    "\n",
    "groupDict = dict()\n",
    "\n",
    "metric = {\n",
    "    \"voxelCount\": 0\n",
    "}\n",
    "\n",
    "for i in range(len(domainList)):\n",
    "    if domainList[i] not in groupDict:\n",
    "        groupDict[domainList[i]] = dict()\n",
    "        groupDict[domainList[i]][\"index\"]=dict()\n",
    "        groupDict[domainList[i]][\"totalVoxelCount\"] = 0\n",
    "        groupDict[domainList[i]][\"avgVoxelCount\"] = 0\n",
    "    groupDict[domainList[i]][\"index\"][indexList[i]-1]=copy.deepcopy(metric)\n",
    "\n",
    "#groupDict"
   ]
  },
  {
   "cell_type": "code",
   "execution_count": 14,
   "metadata": {},
   "outputs": [],
   "source": [
    "AD_Threshold = dict()\n",
    "CN_Threshold = dict()\n",
    "\n",
    "structure = {\n",
    "    \"group\": copy.deepcopy(groupDict),\n",
    "    \"voxelCount\": 0,\n",
    "    \"avgVoxelCount\": 0\n",
    "}\n",
    "\n",
    "for i in range(ADsSize):\n",
    "    img_name= \"image\"+str(i+1)\n",
    "    AD_Threshold[img_name]=copy.deepcopy(structure)\n",
    "    # AD_Threshold[img_name][\"group\"] = copy.deepcopy(groupDict)\n",
    "    # AD_Threshold[img_name][\"voxelCount\"] = 0\n",
    "    # AD_Threshold[img_name][\"avgCount\"] = 0\n",
    "\n",
    "\n",
    "\n",
    "for i in range(CNsSize):\n",
    "    img_name= \"image\"+str(i+1)\n",
    "    CN_Threshold[img_name]=copy.deepcopy(structure)\n",
    "    # CN_Threshold[img_name][\"group\"] = copy.deepcopy(groupDict)\n",
    "    # CN_Threshold[img_name][\"voxelCount\"] = 0\n",
    "    # CN_Threshold[img_name][\"avgCount\"] = 0"
   ]
  },
  {
   "cell_type": "code",
   "execution_count": 16,
   "metadata": {},
   "outputs": [],
   "source": [
    "def calculateVoxels(groupName, imgPathsList):\n",
    "    for index, path in enumerate(imgPathsList):\n",
    "        currentImage = \"image\"+str(index+1)\n",
    "        spacialMapName = path + componentFileName\n",
    "        spacialMap = load_img(spacialMapName)\n",
    "        spacialMap_data = spacialMap.get_fdata()\n",
    "        # spacialMap_mean = np.average(spacialMap_data)\n",
    "        for networkName in groupName[currentImage][\"group\"]:   # SC, AD, VIS, ......\n",
    "\n",
    "            index_items = groupName[currentImage][\"group\"][networkName][\"index\"].items()\n",
    "            network_count = len(index_items)\n",
    "            \n",
    "            for key, value in index_items:  # 63: {voxelCount: 0}\n",
    "\n",
    "                component_image = image.index_img(spacialMap, key)\n",
    "                value[\"voxelCount\"] = np.count_nonzero(component_image.get_fdata() > 3*np.std(component_image.get_fdata()))\n",
    "                # print(value[\"voxelCount\"])\n",
    "                groupName[currentImage][\"group\"][networkName][\"totalVoxelCount\"] += value[\"voxelCount\"]\n",
    "                groupName[currentImage][\"voxelCount\"] += value[\"voxelCount\"]\n",
    "            \n",
    "            groupName[currentImage][\"group\"][networkName][\"avgVoxelCount\"]=groupName[currentImage][\"group\"][networkName][\"totalVoxelCount\"]/network_count\n",
    "\n",
    "        groupName[currentImage][\"avgVoxelCount\"] = groupName[currentImage][\"voxelCount\"] / 53\n",
    "        if index == 0:\n",
    "            break"
   ]
  },
  {
   "cell_type": "code",
   "execution_count": 17,
   "metadata": {},
   "outputs": [],
   "source": [
    "calculateVoxels(AD_Threshold, ADs)\n",
    "# calculateVoxels(CN_Threshold, CNs)"
   ]
  },
  {
   "cell_type": "code",
   "execution_count": null,
   "metadata": {},
   "outputs": [],
   "source": [
    "with open('ads.json','w') as data:\n",
    "      data.write(json.dumps(AD_Threshold))\n",
    "with open('cns.json','w') as data: \n",
    "      data.write(json.dumps(CN_Threshold))"
   ]
  },
  {
   "cell_type": "code",
   "execution_count": 12,
   "metadata": {},
   "outputs": [
    {
     "name": "stdout",
     "output_type": "stream",
     "text": [
      "Average of AD's Voxel Count:  86365.26760563381 , Standard Deviation of AD's voxel Count:  6263.579345292291\n",
      "Average of CN's Voxel Count:  86874.73650793651 , Standard Deviation of CN's voxel Count:  7581.582764308085\n"
     ]
    }
   ],
   "source": [
    "#Calculating Mean and Standard Deviation for all the AD's and CN's\n",
    "def getVoxelCountForEachImage(subjectObject):\n",
    "    arr = []\n",
    "    for i in subjectObject.keys():\n",
    "        arr.append(subjectObject[i][\"voxelCount\"])\n",
    "    avg = np.average(arr)\n",
    "    standardDeviation = np.std(arr)\n",
    "    return [avg,standardDeviation]\n",
    "\n",
    "ADs_voxelCount = getVoxelCountForEachImage(AD_Threshold)\n",
    "CNs_voxelCount = getVoxelCountForEachImage(CN_Threshold)\n",
    "\n",
    "print(\"Average of AD's Voxel Count: \", ADs_voxelCount[0], \", Standard Deviation of AD's voxel Count: \", ADs_voxelCount[1])\n",
    "print(\"Average of CN's Voxel Count: \", CNs_voxelCount[0], \", Standard Deviation of CN's voxel Count: \", CNs_voxelCount[1])\n",
    "\n"
   ]
  },
  {
   "cell_type": "code",
   "execution_count": 22,
   "metadata": {},
   "outputs": [
    {
     "data": {
      "text/plain": [
       "{'index': {68: {'voxelCount': 3220},\n",
       "  52: {'voxelCount': 3021},\n",
       "  97: {'voxelCount': 3223},\n",
       "  98: {'voxelCount': 2581},\n",
       "  44: {'voxelCount': 2854}},\n",
       " 'totalVoxelCount': 14899,\n",
       " 'avgVoxelCount': 2979.8}"
      ]
     },
     "execution_count": 22,
     "metadata": {},
     "output_type": "execute_result"
    }
   ],
   "source": [
    "AD_Threshold[\"image1\"][\"group\"]['SC']"
   ]
  },
  {
   "cell_type": "code",
   "execution_count": null,
   "metadata": {},
   "outputs": [],
   "source": [
    "subject_4D = load_img(ADs[0]+componentFileName)\n",
    "\n",
    "subject_data = subject_4D.get_fdata()\n",
    "subject_threshold = 4*np.std(subject_data)\n",
    "print(subject_threshold)\n",
    "subject_mask_whole_brain = masking.compute_brain_mask(subject_4D,threshold=subject_threshold, mask_type=\"whole-brain\")\n",
    "subject_mask_grey_matter = masking.compute_brain_mask(subject_4D, threshold=subject_threshold, mask_type=\"gm\")\n",
    "subject_mask_white_matter = masking.compute_brain_mask(subject_4D, threshold=subject_threshold, mask_type=\"wm\")\n",
    "\n",
    "plot_img(subject_mask_whole_brain)\n",
    "plot_img(subject_mask_grey_matter)\n",
    "plot_img(subject_mask_white_matter)\n",
    "\n",
    "# component = image.index_img(subject_4D,69)\n",
    "# component_threshold = np.std(component.get_fdata())\n",
    "# component_mask = masking.compute_brain_mask(component,threshold=component_threshold, mask_type=\"gm\")\n",
    "\n",
    "# plot_img(component_mask)"
   ]
  },
  {
   "cell_type": "code",
   "execution_count": 27,
   "metadata": {},
   "outputs": [
    {
     "name": "stdout",
     "output_type": "stream",
     "text": [
      "1.5499378725312716\n"
     ]
    },
    {
     "data": {
      "text/plain": [
       "<nilearn.plotting.displays._slicers.OrthoSlicer at 0x7f552a266208>"
      ]
     },
     "execution_count": 27,
     "metadata": {},
     "output_type": "execute_result"
    },
    {
     "data": {
      "image/png": "[encoded data removed]",
      "text/plain": [
       "<Figure size 475.2x187.2 with 4 Axes>"
      ]
     },
     "metadata": {},
     "output_type": "display_data"
    },
    {
     "data": {
      "image/png": "[encoded data removed]",
      "text/plain": [
       "<Figure size 475.2x187.2 with 4 Axes>"
      ]
     },
     "metadata": {},
     "output_type": "display_data"
    }
   ],
   "source": [
    "# concat images.\n",
    "subject_4D = load_img(ADs[0]+componentFileName)\n",
    "image_list = []\n",
    "\n",
    "for i in indexList:\n",
    "    # print(i,end=\" \")\n",
    "    image_list.append(image.index_img(subject_4D,i))\n",
    "\n",
    "new_image = image.concat_imgs(image_list)\n",
    "# new_image_data = new_image.get_fdata()\n",
    "# new_image_threshold = np.std(new_image_data)\n",
    "\n",
    "# new_image_whole_brain = masking.compute_brain_mask(new_image,threshold=new_image_threshold, mask_type=\"whole-brain\")\n",
    "# new_image_grey_matter = masking.compute_brain_mask(new_image, threshold=new_image_threshold, mask_type=\"gm\")\n",
    "# new_image_white_matter = masking.compute_brain_mask(new_image, threshold=new_image_threshold, mask_type=\"wm\")\n",
    "\n",
    "# plot_img(new_image_whole_brain)\n",
    "# plot_img(new_image_grey_matter)\n",
    "# plot_img(new_image_white_matter)\n",
    "\n",
    "component_image = image.index_img(subject_4D,indexList[3])\n",
    "plot_img(component_image)\n",
    "\n",
    "component_data = component_image.get_fdata()\n",
    "component_threshold = 2.5*np.std(component_image.get_fdata())\n",
    "print(component_threshold)\n",
    "\n",
    "l,b,h=component_data.shape\n",
    "for i in range(l):\n",
    "    for j in range(b):\n",
    "        for k in range(h):\n",
    "            if component_data[i][j][k] <= component_threshold:\n",
    "                component_data[i][j][k]=0\n",
    "\n",
    "component_mask = nib.Nifti1Image(component_data, component_image.affine)\n",
    "plot_img(component_mask)\n",
    "\n",
    "# print(component_image.shape)\n",
    "\n",
    "# component_image_data = new_image.get_fdata()\n",
    "# component_image_threshold = 2*np.std(component_image_data)\n",
    "# print(component_image_threshold)\n",
    "\n",
    "# component_image_whole_brain = masking.compute_brain_mask(component_image,threshold=component_image_threshold, mask_type=\"whole-brain\")\n",
    "# component_image_grey_matter = masking.compute_brain_mask(component_image, threshold=component_image_threshold, mask_type=\"gm\")\n",
    "# component_image_white_matter = masking.compute_brain_mask(component_image, threshold=component_image_threshold, mask_type=\"wm\")\n",
    "\n",
    "# plot_img(component_image_whole_brain)\n",
    "# plot_img(component_image_grey_matter)\n",
    "# plot_img(component_image_white_matter)"
   ]
  },
  {
   "cell_type": "code",
   "execution_count": 12,
   "metadata": {},
   "outputs": [],
   "source": [
    "def calculateThresholdAndVoxels(network, componentImage):\n",
    "    componentImageInArray = componentImage.get_fdata()  ## raw ndarray\n",
    "    _,threshold = filters.threshold_niblack(componentImageInArray)\n",
    "    network[\"threshold\"] = threshold\n",
    "    network[\"voxelCount\"] = np.count_nonzero(componentImage > threshold)\n",
    "\n",
    "def iterateImages(groupName, imgPathsList):\n",
    "    for index, path in enumerate(imgPathsList):\n",
    "        currentImage = \"image\"+str(index+1)\n",
    "        spacialMapName = path + componentFileName\n",
    "        spacialMap = load_img(spacialMapName)\n",
    "        for networkName in groupName[currentImage][\"group\"]:   # SC, AD, VIS, ......\n",
    "\n",
    "            index_items = groupName[currentImage][\"group\"][networkName][\"index\"].items()\n",
    "            network_count = len(index_items)\n",
    "\n",
    "            for key, value in index_items:  # 63: {threshold: 0, voxelCount: 0}\n",
    "\n",
    "                component_image = image.index_img(spacialMap, key)\n",
    "                calculateThresholdAndVoxels(value, component_image)\n",
    "                groupName[currentImage][\"group\"][networkName][\"totalVoxelCount\"]+=value[\"voxelCount\"]\n",
    "                groupName[currentImage][\"voxelCount\"] += value[\"voxelCount\"]\n",
    "            \n",
    "            groupName[currentImage][\"group\"][networkName][\"avgVoxelCount\"]=groupName[currentImage][\"group\"][networkName][\"totalVoxelCount\"]/network_count\n",
    "\n",
    "        groupName[currentImage][\"avgVoxelCount\"] = groupName[currentImage][\"voxelCount\"] / 53"
   ]
  }
 ],
 "metadata": {
  "interpreter": {
   "hash": "31f2aee4e71d21fbe5cf8b01ff0e069b9275f58929596ceb00d14d90e3e16cd6"
  },
  "kernelspec": {
   "display_name": "Python 3.6.8 64-bit",
   "language": "python",
   "name": "python3"
  },
  "language_info": {
   "codemirror_mode": {
    "name": "ipython",
    "version": 3
   },
   "file_extension": ".py",
   "mimetype": "text/x-python",
   "name": "python",
   "nbconvert_exporter": "python",
   "pygments_lexer": "ipython3",
   "version": "3.6.8"
  },
  "orig_nbformat": 4
 },
 "nbformat": 4,
 "nbformat_minor": 2
}
